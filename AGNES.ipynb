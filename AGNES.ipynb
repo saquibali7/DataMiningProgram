{
 "cells": [
  {
   "cell_type": "code",
   "execution_count": 132,
   "id": "8b2f3015",
   "metadata": {},
   "outputs": [],
   "source": [
    "import numpy as np"
   ]
  },
  {
   "cell_type": "code",
   "execution_count": 133,
   "id": "0a3f9af3",
   "metadata": {},
   "outputs": [],
   "source": [
    "import random\n",
    "num_points = 20\n",
    "\n",
    "data_points = {i + 1: (random.uniform(1, 10), random.uniform(1, 10)) for i in range(num_points)}"
   ]
  },
  {
   "cell_type": "code",
   "execution_count": 134,
   "metadata": {},
   "outputs": [
    {
     "data": {
      "text/plain": [
       "{1: (5.778225340543029, 2.055856046671774),\n",
       " 2: (6.0974280397539005, 2.7774349555991455),\n",
       " 3: (3.453208190382821, 1.1147778151494192),\n",
       " 4: (9.932530118793522, 7.542877009041854),\n",
       " 5: (2.5435973855534253, 9.925911136441469),\n",
       " 6: (1.6127652350832293, 6.6811845118871265),\n",
       " 7: (2.679067774584093, 2.805958372612476),\n",
       " 8: (3.107074033922627, 2.143697315026851),\n",
       " 9: (2.5129937982147545, 7.667612605250431),\n",
       " 10: (2.4800070125223153, 9.793706790912811),\n",
       " 11: (7.760455770858605, 1.1735835558326364),\n",
       " 12: (7.930117956345165, 1.7706435731496029),\n",
       " 13: (5.299964803299887, 1.7475302199588474),\n",
       " 14: (2.0196992472595925, 8.540953881426413),\n",
       " 15: (4.8123138059112875, 9.221747294021453),\n",
       " 16: (1.976172555198636, 5.06384422175925),\n",
       " 17: (9.310437020718027, 2.8488755590927823),\n",
       " 18: (6.072330287604466, 6.7061974515479),\n",
       " 19: (7.547126579867028, 3.1492409203560836),\n",
       " 20: (6.972688443256038, 5.121065210952506)}"
      ]
     },
     "execution_count": 134,
     "metadata": {},
     "output_type": "execute_result"
    }
   ],
   "source": [
    "data_points"
   ]
  },
  {
   "cell_type": "code",
   "execution_count": 135,
   "id": "6075b7e4",
   "metadata": {},
   "outputs": [
    {
     "data": {
      "text/plain": [
       "<matplotlib.collections.PathCollection at 0x205233af850>"
      ]
     },
     "execution_count": 135,
     "metadata": {},
     "output_type": "execute_result"
    },
    {
     "data": {
      "image/png": "[encoded data removed]",
      "text/plain": [
       "<Figure size 432x288 with 1 Axes>"
      ]
     },
     "metadata": {
      "needs_background": "light"
     },
     "output_type": "display_data"
    }
   ],
   "source": [
    "import matplotlib.pyplot as plt\n",
    "\n",
    "xs = [x for x,_ in data_points.values()]\n",
    "ys = [y for _,y in data_points.values()]\n",
    "plt.scatter(xs,ys)"
   ]
  },
  {
   "cell_type": "code",
   "execution_count": 136,
   "id": "b561ebfc",
   "metadata": {},
   "outputs": [],
   "source": [
    "import math\n",
    "\n",
    "def euclidean_distance(point1, point2):\n",
    "    x1, y1 = point1\n",
    "    x2, y2 = point2\n",
    "    distance = math.sqrt((float(x2) - x1)**2 + (y2 - y1)**2)\n",
    "    return round(distance,2)\n",
    "\n",
    "def compute_centroid(pts):\n",
    "    xs = [data_points[p][0] for p in pts]\n",
    "    ys = [data_points[p][1] for p in pts]\n",
    "    \n",
    "    mean_x = float(sum(xs))/len(xs)\n",
    "    mean_y = float(sum(ys))/len(ys)\n",
    "    \n",
    "    return (mean_x, mean_y)"
   ]
  },
  {
   "cell_type": "code",
   "execution_count": 137,
   "id": "0144dd9d",
   "metadata": {},
   "outputs": [],
   "source": [
    "def join(cluster, points):\n",
    "    for p in points:\n",
    "        if type(p) == int:\n",
    "            cluster.append(p)\n",
    "        else:\n",
    "            cluster.extend(p)\n",
    "    return cluster"
   ]
  },
  {
   "cell_type": "code",
   "execution_count": 138,
   "id": "43ca2eb0",
   "metadata": {},
   "outputs": [],
   "source": [
    "from heapq import heappush, heappop\n",
    "\n",
    "\n",
    "def compute_proximity_vals(data):\n",
    "    n = len(data.keys())\n",
    "    clusters = list(data.keys())\n",
    "    pq = []\n",
    "    for i in range(n):\n",
    "        for j in range(i+1, n):\n",
    "            c1, c2 = clusters[i], clusters[j]\n",
    "            p1 = data[c1]\n",
    "            p2 = data[c2]\n",
    "            heappush(pq, (euclidean_distance(p1,p2), [c1,c2]))\n",
    "    return pq"
   ]
  },
  {
   "cell_type": "code",
   "execution_count": 139,
   "id": "bf97d800",
   "metadata": {},
   "outputs": [],
   "source": [
    "\n",
    "def get_clusters(data):\n",
    "    \n",
    "    prox_vals = compute_proximity_vals(data)\n",
    "    min_d, pts = heappop(prox_vals)\n",
    "    joined_cs = [p for p in pts]\n",
    "    new_cluster = join([], pts)\n",
    "#     print(prox_vals)\n",
    "    if len(prox_vals) != 0:\n",
    "        while min_d == prox_vals[0][0]:\n",
    "            _, pts = heappop(prox_vals)\n",
    "            new_cluster = join(new_cluster, pts)\n",
    "            joined_cs.extend(pts)\n",
    "    \n",
    "    # print(\"joined\", joined_cs)\n",
    "    cluster_center = compute_centroid(new_cluster)\n",
    "    new_data = {k:v for k,v in data.items() if k not in joined_cs}\n",
    "    new_data[tuple(new_cluster)] = cluster_center\n",
    "    \n",
    "    return new_data"
   ]
  },
  {
   "cell_type": "code",
   "execution_count": 140,
   "id": "d8672738",
   "metadata": {},
   "outputs": [
    {
     "name": "stdout",
     "output_type": "stream",
     "text": [
      "current clusters :  [[1], [2], [3], [4], [6], [7], [8], [9], [11], [12], [13], [14], [15], [16], [17], [18], [19], [20], [5, 10]]\n",
      "current clusters :  [[2], [3], [4], [6], [7], [8], [9], [11], [12], [14], [15], [16], [17], [18], [19], [20], [5, 10], [1, 13]]\n",
      "current clusters :  [[2], [3], [4], [6], [7], [8], [9], [14], [15], [16], [17], [18], [19], [20], [5, 10], [1, 13], [11, 12]]\n",
      "current clusters :  [[2], [3], [4], [6], [9], [14], [15], [16], [17], [18], [19], [20], [5, 10], [1, 13], [11, 12], [7, 8]]\n",
      "current clusters :  [[2], [3], [4], [6], [15], [16], [17], [18], [19], [20], [5, 10], [1, 13], [11, 12], [7, 8], [9, 14]]\n",
      "current clusters :  [[3], [4], [6], [15], [16], [17], [18], [19], [20], [5, 10], [11, 12], [7, 8], [9, 14], [2, 1, 13]]\n",
      "current clusters :  [[4], [6], [15], [16], [17], [18], [19], [20], [5, 10], [11, 12], [9, 14], [2, 1, 13], [3, 7, 8]]\n",
      "current clusters :  [[4], [15], [16], [17], [18], [19], [20], [5, 10], [11, 12], [2, 1, 13], [3, 7, 8], [6, 9, 14]]\n",
      "current clusters :  [[4], [15], [16], [17], [18], [20], [5, 10], [2, 1, 13], [3, 7, 8], [6, 9, 14], [19, 11, 12]]\n",
      "current clusters :  [[4], [15], [16], [18], [20], [5, 10], [2, 1, 13], [3, 7, 8], [6, 9, 14], [17, 19, 11, 12]]\n",
      "current clusters :  [[4], [15], [16], [5, 10], [2, 1, 13], [3, 7, 8], [6, 9, 14], [17, 19, 11, 12], [18, 20]]\n",
      "current clusters :  [[4], [15], [16], [2, 1, 13], [3, 7, 8], [17, 19, 11, 12], [18, 20], [5, 10, 6, 9, 14]]\n",
      "current clusters :  [[4], [15], [16], [3, 7, 8], [18, 20], [5, 10, 6, 9, 14], [2, 1, 13, 17, 19, 11, 12]]\n",
      "current clusters :  [[4], [16], [3, 7, 8], [18, 20], [2, 1, 13, 17, 19, 11, 12], [15, 5, 10, 6, 9, 14]]\n",
      "current clusters :  [[4], [18, 20], [2, 1, 13, 17, 19, 11, 12], [15, 5, 10, 6, 9, 14], [16, 3, 7, 8]]\n",
      "current clusters :  [[4], [15, 5, 10, 6, 9, 14], [16, 3, 7, 8], [18, 20, 2, 1, 13, 17, 19, 11, 12]]\n",
      "current clusters :  [[4], [15, 5, 10, 6, 9, 14], [16, 3, 7, 8, 18, 20, 2, 1, 13, 17, 19, 11, 12]]\n",
      "current clusters :  [[15, 5, 10, 6, 9, 14], [4, 16, 3, 7, 8, 18, 20, 2, 1, 13, 17, 19, 11, 12]]\n",
      "current clusters :  [[15, 5, 10, 6, 9, 14, 4, 16, 3, 7, 8, 18, 20, 2, 1, 13, 17, 19, 11, 12]]\n"
     ]
    }
   ],
   "source": [
    "clusters = []\n",
    "current_clusters = {(k): v for k, v in data_points.items()}\n",
    "# clusters.append(current_clusters)\n",
    "# print(\"clusters:\\n\", current_clusters)\n",
    "while len(current_clusters.keys()) != 1:\n",
    "    current_clusters = get_clusters(current_clusters)\n",
    "    # print(\"current_clusters:\",list(current_clusters.keys()))\n",
    "    new_cluster=[]\n",
    "    for p in current_clusters.keys():\n",
    "        if type(p) == int:\n",
    "            new_cluster.append([p])\n",
    "        else:\n",
    "            new_cluster.extend([list(p)])\n",
    "        \n",
    "    print(\"current clusters : \", new_cluster)\n",
    "    clusters.append(new_cluster)"
   ]
  }
 ],
 "metadata": {
  "kernelspec": {
   "display_name": "Python 3 (ipykernel)",
   "language": "python",
   "name": "python3"
  },
  "language_info": {
   "codemirror_mode": {
    "name": "ipython",
    "version": 3
   },
   "file_extension": ".py",
   "mimetype": "text/x-python",
   "name": "python",
   "nbconvert_exporter": "python",
   "pygments_lexer": "ipython3",
   "version": "3.10.0"
  }
 },
 "nbformat": 4,
 "nbformat_minor": 5
}
