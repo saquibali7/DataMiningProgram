{
 "cells": [
  {
   "cell_type": "code",
   "execution_count": 49,
   "id": "fa669cd0",
   "metadata": {},
   "outputs": [],
   "source": [
    "import numpy as np\n",
    "import matplotlib.pyplot as plt"
   ]
  },
  {
   "cell_type": "code",
   "execution_count": 50,
   "id": "3afa3d32",
   "metadata": {},
   "outputs": [],
   "source": [
    "import random\n",
    "num_points = 20\n",
    "\n",
    "data_points = {i + 1: (random.uniform(1, 10), random.uniform(1, 10)) for i in range(num_points)}"
   ]
  },
  {
   "cell_type": "code",
   "execution_count": 51,
   "id": "f30f33a6",
   "metadata": {},
   "outputs": [
    {
     "data": {
      "text/plain": [
       "<matplotlib.collections.PathCollection at 0x1dedb060520>"
      ]
     },
     "execution_count": 51,
     "metadata": {},
     "output_type": "execute_result"
    },
    {
     "data": {
      "image/png": "[encoded data removed]",
      "text/plain": [
       "<Figure size 432x288 with 1 Axes>"
      ]
     },
     "metadata": {
      "needs_background": "light"
     },
     "output_type": "display_data"
    }
   ],
   "source": [
    "xs = [x for x,_ in data_points.values()]\n",
    "ys = [y for _,y in data_points.values()]\n",
    "plt.scatter(xs,ys)"
   ]
  },
  {
   "cell_type": "code",
   "execution_count": 41,
   "id": "ece3c59a",
   "metadata": {},
   "outputs": [],
   "source": [
    "import math\n",
    "\n",
    "def euclidean_distance(point1, point2):\n",
    "    x1, y1 = point1\n",
    "    x2, y2 = point2\n",
    "    distance = math.sqrt((float(x2) - x1)**2 + (y2 - y1)**2)\n",
    "    return round(distance,2)"
   ]
  },
  {
   "cell_type": "code",
   "execution_count": 42,
   "id": "3914308e",
   "metadata": {},
   "outputs": [],
   "source": [
    "def compute_proximity_vals(data):\n",
    "    n = len(data.keys())\n",
    "    points = list(data.keys())\n",
    "    prox_vals = np.zeros((n,n))\n",
    "    for i in range(n):\n",
    "        for j in range(n):\n",
    "            c1, c2 = points[i], points[j]\n",
    "            p1 = data[c1]\n",
    "            p2 = data[c2]\n",
    "            prox_vals[i][j] = euclidean_distance(p1, p2)\n",
    "    return prox_vals"
   ]
  },
  {
   "cell_type": "code",
   "execution_count": 43,
   "id": "dd888f7c",
   "metadata": {},
   "outputs": [],
   "source": [
    "import pandas as pd\n",
    "\n",
    "num_clusters = 0\n",
    "mat = np.array(list(data_points.values()))\n",
    "all_elements = list(data_points.keys())"
   ]
  },
  {
   "cell_type": "code",
   "execution_count": 44,
   "id": "07ba482c",
   "metadata": {},
   "outputs": [],
   "source": [
    "p_v = compute_proximity_vals(data_points)"
   ]
  },
  {
   "cell_type": "code",
   "execution_count": 45,
   "id": "4aad82e1",
   "metadata": {},
   "outputs": [],
   "source": [
    "dissimilarity_matrix = pd.DataFrame(p_v,index=all_elements, columns=all_elements)"
   ]
  },
  {
   "cell_type": "code",
   "execution_count": 46,
   "id": "bfa76adb",
   "metadata": {},
   "outputs": [
    {
     "data": {
      "text/html": [
       "<div>\n",
       "<style scoped>\n",
       "    .dataframe tbody tr th:only-of-type {\n",
       "        vertical-align: middle;\n",
       "    }\n",
       "\n",
       "    .dataframe tbody tr th {\n",
       "        vertical-align: top;\n",
       "    }\n",
       "\n",
       "    .dataframe thead th {\n",
       "        text-align: right;\n",
       "    }\n",
       "</style>\n",
       "<table border=\"1\" class=\"dataframe\">\n",
       "  <thead>\n",
       "    <tr style=\"text-align: right;\">\n",
       "      <th></th>\n",
       "      <th>1</th>\n",
       "      <th>2</th>\n",
       "      <th>3</th>\n",
       "      <th>4</th>\n",
       "      <th>5</th>\n",
       "      <th>6</th>\n",
       "      <th>7</th>\n",
       "      <th>8</th>\n",
       "      <th>9</th>\n",
       "      <th>10</th>\n",
       "      <th>11</th>\n",
       "      <th>12</th>\n",
       "      <th>13</th>\n",
       "      <th>14</th>\n",
       "      <th>15</th>\n",
       "      <th>16</th>\n",
       "      <th>17</th>\n",
       "      <th>18</th>\n",
       "      <th>19</th>\n",
       "      <th>20</th>\n",
       "    </tr>\n",
       "  </thead>\n",
       "  <tbody>\n",
       "    <tr>\n",
       "      <th>1</th>\n",
       "      <td>0.00</td>\n",
       "      <td>4.35</td>\n",
       "      <td>5.83</td>\n",
       "      <td>3.35</td>\n",
       "      <td>7.43</td>\n",
       "      <td>5.60</td>\n",
       "      <td>7.71</td>\n",
       "      <td>4.82</td>\n",
       "      <td>8.94</td>\n",
       "      <td>4.35</td>\n",
       "      <td>7.46</td>\n",
       "      <td>6.87</td>\n",
       "      <td>6.53</td>\n",
       "      <td>5.33</td>\n",
       "      <td>8.48</td>\n",
       "      <td>6.41</td>\n",
       "      <td>9.07</td>\n",
       "      <td>4.26</td>\n",
       "      <td>7.69</td>\n",
       "      <td>4.52</td>\n",
       "    </tr>\n",
       "    <tr>\n",
       "      <th>2</th>\n",
       "      <td>4.35</td>\n",
       "      <td>0.00</td>\n",
       "      <td>5.59</td>\n",
       "      <td>2.49</td>\n",
       "      <td>7.74</td>\n",
       "      <td>7.80</td>\n",
       "      <td>4.76</td>\n",
       "      <td>0.98</td>\n",
       "      <td>7.00</td>\n",
       "      <td>0.26</td>\n",
       "      <td>4.78</td>\n",
       "      <td>5.76</td>\n",
       "      <td>8.13</td>\n",
       "      <td>4.57</td>\n",
       "      <td>7.03</td>\n",
       "      <td>8.25</td>\n",
       "      <td>7.21</td>\n",
       "      <td>0.54</td>\n",
       "      <td>7.98</td>\n",
       "      <td>1.90</td>\n",
       "    </tr>\n",
       "    <tr>\n",
       "      <th>3</th>\n",
       "      <td>5.83</td>\n",
       "      <td>5.59</td>\n",
       "      <td>0.00</td>\n",
       "      <td>3.37</td>\n",
       "      <td>2.16</td>\n",
       "      <td>3.71</td>\n",
       "      <td>4.05</td>\n",
       "      <td>4.91</td>\n",
       "      <td>3.60</td>\n",
       "      <td>5.34</td>\n",
       "      <td>3.54</td>\n",
       "      <td>1.38</td>\n",
       "      <td>3.26</td>\n",
       "      <td>1.05</td>\n",
       "      <td>2.86</td>\n",
       "      <td>3.59</td>\n",
       "      <td>3.64</td>\n",
       "      <td>6.04</td>\n",
       "      <td>2.39</td>\n",
       "      <td>3.75</td>\n",
       "    </tr>\n",
       "    <tr>\n",
       "      <th>4</th>\n",
       "      <td>3.35</td>\n",
       "      <td>2.49</td>\n",
       "      <td>3.37</td>\n",
       "      <td>0.00</td>\n",
       "      <td>5.46</td>\n",
       "      <td>5.33</td>\n",
       "      <td>4.37</td>\n",
       "      <td>2.23</td>\n",
       "      <td>5.78</td>\n",
       "      <td>2.29</td>\n",
       "      <td>4.12</td>\n",
       "      <td>3.96</td>\n",
       "      <td>5.64</td>\n",
       "      <td>2.49</td>\n",
       "      <td>5.49</td>\n",
       "      <td>5.76</td>\n",
       "      <td>5.94</td>\n",
       "      <td>2.84</td>\n",
       "      <td>5.71</td>\n",
       "      <td>1.36</td>\n",
       "    </tr>\n",
       "    <tr>\n",
       "      <th>5</th>\n",
       "      <td>7.43</td>\n",
       "      <td>7.74</td>\n",
       "      <td>2.16</td>\n",
       "      <td>5.46</td>\n",
       "      <td>0.00</td>\n",
       "      <td>3.37</td>\n",
       "      <td>5.62</td>\n",
       "      <td>7.06</td>\n",
       "      <td>4.09</td>\n",
       "      <td>7.49</td>\n",
       "      <td>5.11</td>\n",
       "      <td>2.64</td>\n",
       "      <td>2.29</td>\n",
       "      <td>3.20</td>\n",
       "      <td>3.12</td>\n",
       "      <td>2.73</td>\n",
       "      <td>4.01</td>\n",
       "      <td>8.19</td>\n",
       "      <td>0.26</td>\n",
       "      <td>5.90</td>\n",
       "    </tr>\n",
       "    <tr>\n",
       "      <th>6</th>\n",
       "      <td>5.60</td>\n",
       "      <td>7.80</td>\n",
       "      <td>3.71</td>\n",
       "      <td>5.33</td>\n",
       "      <td>3.37</td>\n",
       "      <td>0.00</td>\n",
       "      <td>7.72</td>\n",
       "      <td>7.50</td>\n",
       "      <td>7.07</td>\n",
       "      <td>7.61</td>\n",
       "      <td>7.23</td>\n",
       "      <td>5.02</td>\n",
       "      <td>1.25</td>\n",
       "      <td>4.40</td>\n",
       "      <td>6.16</td>\n",
       "      <td>0.91</td>\n",
       "      <td>7.05</td>\n",
       "      <td>8.09</td>\n",
       "      <td>3.52</td>\n",
       "      <td>6.42</td>\n",
       "    </tr>\n",
       "    <tr>\n",
       "      <th>7</th>\n",
       "      <td>7.71</td>\n",
       "      <td>4.76</td>\n",
       "      <td>4.05</td>\n",
       "      <td>4.37</td>\n",
       "      <td>5.62</td>\n",
       "      <td>7.72</td>\n",
       "      <td>0.00</td>\n",
       "      <td>3.77</td>\n",
       "      <td>2.68</td>\n",
       "      <td>4.53</td>\n",
       "      <td>0.51</td>\n",
       "      <td>2.99</td>\n",
       "      <td>7.29</td>\n",
       "      <td>3.38</td>\n",
       "      <td>3.21</td>\n",
       "      <td>7.64</td>\n",
       "      <td>2.91</td>\n",
       "      <td>5.28</td>\n",
       "      <td>5.75</td>\n",
       "      <td>3.33</td>\n",
       "    </tr>\n",
       "    <tr>\n",
       "      <th>8</th>\n",
       "      <td>4.82</td>\n",
       "      <td>0.98</td>\n",
       "      <td>4.91</td>\n",
       "      <td>2.23</td>\n",
       "      <td>7.06</td>\n",
       "      <td>7.50</td>\n",
       "      <td>3.77</td>\n",
       "      <td>0.00</td>\n",
       "      <td>6.05</td>\n",
       "      <td>0.75</td>\n",
       "      <td>3.80</td>\n",
       "      <td>4.92</td>\n",
       "      <td>7.69</td>\n",
       "      <td>3.87</td>\n",
       "      <td>6.12</td>\n",
       "      <td>7.86</td>\n",
       "      <td>6.26</td>\n",
       "      <td>1.51</td>\n",
       "      <td>7.29</td>\n",
       "      <td>1.17</td>\n",
       "    </tr>\n",
       "    <tr>\n",
       "      <th>9</th>\n",
       "      <td>8.94</td>\n",
       "      <td>7.00</td>\n",
       "      <td>3.60</td>\n",
       "      <td>5.78</td>\n",
       "      <td>4.09</td>\n",
       "      <td>7.07</td>\n",
       "      <td>2.68</td>\n",
       "      <td>6.05</td>\n",
       "      <td>0.00</td>\n",
       "      <td>6.75</td>\n",
       "      <td>2.38</td>\n",
       "      <td>2.23</td>\n",
       "      <td>6.25</td>\n",
       "      <td>3.66</td>\n",
       "      <td>0.98</td>\n",
       "      <td>6.67</td>\n",
       "      <td>0.23</td>\n",
       "      <td>7.54</td>\n",
       "      <td>4.11</td>\n",
       "      <td>5.24</td>\n",
       "    </tr>\n",
       "    <tr>\n",
       "      <th>10</th>\n",
       "      <td>4.35</td>\n",
       "      <td>0.26</td>\n",
       "      <td>5.34</td>\n",
       "      <td>2.29</td>\n",
       "      <td>7.49</td>\n",
       "      <td>7.61</td>\n",
       "      <td>4.53</td>\n",
       "      <td>0.75</td>\n",
       "      <td>6.75</td>\n",
       "      <td>0.00</td>\n",
       "      <td>4.53</td>\n",
       "      <td>5.50</td>\n",
       "      <td>7.91</td>\n",
       "      <td>4.31</td>\n",
       "      <td>6.77</td>\n",
       "      <td>8.05</td>\n",
       "      <td>6.96</td>\n",
       "      <td>0.79</td>\n",
       "      <td>7.73</td>\n",
       "      <td>1.64</td>\n",
       "    </tr>\n",
       "    <tr>\n",
       "      <th>11</th>\n",
       "      <td>7.46</td>\n",
       "      <td>4.78</td>\n",
       "      <td>3.54</td>\n",
       "      <td>4.12</td>\n",
       "      <td>5.11</td>\n",
       "      <td>7.23</td>\n",
       "      <td>0.51</td>\n",
       "      <td>3.80</td>\n",
       "      <td>2.38</td>\n",
       "      <td>4.53</td>\n",
       "      <td>0.00</td>\n",
       "      <td>2.48</td>\n",
       "      <td>6.78</td>\n",
       "      <td>2.91</td>\n",
       "      <td>2.79</td>\n",
       "      <td>7.13</td>\n",
       "      <td>2.61</td>\n",
       "      <td>5.31</td>\n",
       "      <td>5.24</td>\n",
       "      <td>3.20</td>\n",
       "    </tr>\n",
       "    <tr>\n",
       "      <th>12</th>\n",
       "      <td>6.87</td>\n",
       "      <td>5.76</td>\n",
       "      <td>1.38</td>\n",
       "      <td>3.96</td>\n",
       "      <td>2.64</td>\n",
       "      <td>5.02</td>\n",
       "      <td>2.99</td>\n",
       "      <td>4.92</td>\n",
       "      <td>2.23</td>\n",
       "      <td>5.50</td>\n",
       "      <td>2.48</td>\n",
       "      <td>0.00</td>\n",
       "      <td>4.39</td>\n",
       "      <td>1.55</td>\n",
       "      <td>1.60</td>\n",
       "      <td>4.77</td>\n",
       "      <td>2.30</td>\n",
       "      <td>6.27</td>\n",
       "      <td>2.78</td>\n",
       "      <td>3.86</td>\n",
       "    </tr>\n",
       "    <tr>\n",
       "      <th>13</th>\n",
       "      <td>6.53</td>\n",
       "      <td>8.13</td>\n",
       "      <td>3.26</td>\n",
       "      <td>5.64</td>\n",
       "      <td>2.29</td>\n",
       "      <td>1.25</td>\n",
       "      <td>7.29</td>\n",
       "      <td>7.69</td>\n",
       "      <td>6.25</td>\n",
       "      <td>7.91</td>\n",
       "      <td>6.78</td>\n",
       "      <td>4.39</td>\n",
       "      <td>0.00</td>\n",
       "      <td>4.15</td>\n",
       "      <td>5.30</td>\n",
       "      <td>0.45</td>\n",
       "      <td>6.20</td>\n",
       "      <td>8.48</td>\n",
       "      <td>2.40</td>\n",
       "      <td>6.54</td>\n",
       "    </tr>\n",
       "    <tr>\n",
       "      <th>14</th>\n",
       "      <td>5.33</td>\n",
       "      <td>4.57</td>\n",
       "      <td>1.05</td>\n",
       "      <td>2.49</td>\n",
       "      <td>3.20</td>\n",
       "      <td>4.40</td>\n",
       "      <td>3.38</td>\n",
       "      <td>3.87</td>\n",
       "      <td>3.66</td>\n",
       "      <td>4.31</td>\n",
       "      <td>2.91</td>\n",
       "      <td>1.55</td>\n",
       "      <td>4.15</td>\n",
       "      <td>0.00</td>\n",
       "      <td>3.15</td>\n",
       "      <td>4.44</td>\n",
       "      <td>3.76</td>\n",
       "      <td>5.04</td>\n",
       "      <td>3.43</td>\n",
       "      <td>2.71</td>\n",
       "    </tr>\n",
       "    <tr>\n",
       "      <th>15</th>\n",
       "      <td>8.48</td>\n",
       "      <td>7.03</td>\n",
       "      <td>2.86</td>\n",
       "      <td>5.49</td>\n",
       "      <td>3.12</td>\n",
       "      <td>6.16</td>\n",
       "      <td>3.21</td>\n",
       "      <td>6.12</td>\n",
       "      <td>0.98</td>\n",
       "      <td>6.77</td>\n",
       "      <td>2.79</td>\n",
       "      <td>1.60</td>\n",
       "      <td>5.30</td>\n",
       "      <td>3.15</td>\n",
       "      <td>0.00</td>\n",
       "      <td>5.73</td>\n",
       "      <td>0.90</td>\n",
       "      <td>7.56</td>\n",
       "      <td>3.13</td>\n",
       "      <td>5.17</td>\n",
       "    </tr>\n",
       "    <tr>\n",
       "      <th>16</th>\n",
       "      <td>6.41</td>\n",
       "      <td>8.25</td>\n",
       "      <td>3.59</td>\n",
       "      <td>5.76</td>\n",
       "      <td>2.73</td>\n",
       "      <td>0.91</td>\n",
       "      <td>7.64</td>\n",
       "      <td>7.86</td>\n",
       "      <td>6.67</td>\n",
       "      <td>8.05</td>\n",
       "      <td>7.13</td>\n",
       "      <td>4.77</td>\n",
       "      <td>0.45</td>\n",
       "      <td>4.44</td>\n",
       "      <td>5.73</td>\n",
       "      <td>0.00</td>\n",
       "      <td>6.63</td>\n",
       "      <td>8.59</td>\n",
       "      <td>2.85</td>\n",
       "      <td>6.73</td>\n",
       "    </tr>\n",
       "    <tr>\n",
       "      <th>17</th>\n",
       "      <td>9.07</td>\n",
       "      <td>7.21</td>\n",
       "      <td>3.64</td>\n",
       "      <td>5.94</td>\n",
       "      <td>4.01</td>\n",
       "      <td>7.05</td>\n",
       "      <td>2.91</td>\n",
       "      <td>6.26</td>\n",
       "      <td>0.23</td>\n",
       "      <td>6.96</td>\n",
       "      <td>2.61</td>\n",
       "      <td>2.30</td>\n",
       "      <td>6.20</td>\n",
       "      <td>3.76</td>\n",
       "      <td>0.90</td>\n",
       "      <td>6.63</td>\n",
       "      <td>0.00</td>\n",
       "      <td>7.75</td>\n",
       "      <td>4.01</td>\n",
       "      <td>5.43</td>\n",
       "    </tr>\n",
       "    <tr>\n",
       "      <th>18</th>\n",
       "      <td>4.26</td>\n",
       "      <td>0.54</td>\n",
       "      <td>6.04</td>\n",
       "      <td>2.84</td>\n",
       "      <td>8.19</td>\n",
       "      <td>8.09</td>\n",
       "      <td>5.28</td>\n",
       "      <td>1.51</td>\n",
       "      <td>7.54</td>\n",
       "      <td>0.79</td>\n",
       "      <td>5.31</td>\n",
       "      <td>6.27</td>\n",
       "      <td>8.48</td>\n",
       "      <td>5.04</td>\n",
       "      <td>7.56</td>\n",
       "      <td>8.59</td>\n",
       "      <td>7.75</td>\n",
       "      <td>0.00</td>\n",
       "      <td>8.43</td>\n",
       "      <td>2.41</td>\n",
       "    </tr>\n",
       "    <tr>\n",
       "      <th>19</th>\n",
       "      <td>7.69</td>\n",
       "      <td>7.98</td>\n",
       "      <td>2.39</td>\n",
       "      <td>5.71</td>\n",
       "      <td>0.26</td>\n",
       "      <td>3.52</td>\n",
       "      <td>5.75</td>\n",
       "      <td>7.29</td>\n",
       "      <td>4.11</td>\n",
       "      <td>7.73</td>\n",
       "      <td>5.24</td>\n",
       "      <td>2.78</td>\n",
       "      <td>2.40</td>\n",
       "      <td>3.43</td>\n",
       "      <td>3.13</td>\n",
       "      <td>2.85</td>\n",
       "      <td>4.01</td>\n",
       "      <td>8.43</td>\n",
       "      <td>0.00</td>\n",
       "      <td>6.13</td>\n",
       "    </tr>\n",
       "    <tr>\n",
       "      <th>20</th>\n",
       "      <td>4.52</td>\n",
       "      <td>1.90</td>\n",
       "      <td>3.75</td>\n",
       "      <td>1.36</td>\n",
       "      <td>5.90</td>\n",
       "      <td>6.42</td>\n",
       "      <td>3.33</td>\n",
       "      <td>1.17</td>\n",
       "      <td>5.24</td>\n",
       "      <td>1.64</td>\n",
       "      <td>3.20</td>\n",
       "      <td>3.86</td>\n",
       "      <td>6.54</td>\n",
       "      <td>2.71</td>\n",
       "      <td>5.17</td>\n",
       "      <td>6.73</td>\n",
       "      <td>5.43</td>\n",
       "      <td>2.41</td>\n",
       "      <td>6.13</td>\n",
       "      <td>0.00</td>\n",
       "    </tr>\n",
       "  </tbody>\n",
       "</table>\n",
       "</div>"
      ],
      "text/plain": [
       "      1     2     3     4     5     6     7     8     9     10    11    12  \\\n",
       "1   0.00  4.35  5.83  3.35  7.43  5.60  7.71  4.82  8.94  4.35  7.46  6.87   \n",
       "2   4.35  0.00  5.59  2.49  7.74  7.80  4.76  0.98  7.00  0.26  4.78  5.76   \n",
       "3   5.83  5.59  0.00  3.37  2.16  3.71  4.05  4.91  3.60  5.34  3.54  1.38   \n",
       "4   3.35  2.49  3.37  0.00  5.46  5.33  4.37  2.23  5.78  2.29  4.12  3.96   \n",
       "5   7.43  7.74  2.16  5.46  0.00  3.37  5.62  7.06  4.09  7.49  5.11  2.64   \n",
       "6   5.60  7.80  3.71  5.33  3.37  0.00  7.72  7.50  7.07  7.61  7.23  5.02   \n",
       "7   7.71  4.76  4.05  4.37  5.62  7.72  0.00  3.77  2.68  4.53  0.51  2.99   \n",
       "8   4.82  0.98  4.91  2.23  7.06  7.50  3.77  0.00  6.05  0.75  3.80  4.92   \n",
       "9   8.94  7.00  3.60  5.78  4.09  7.07  2.68  6.05  0.00  6.75  2.38  2.23   \n",
       "10  4.35  0.26  5.34  2.29  7.49  7.61  4.53  0.75  6.75  0.00  4.53  5.50   \n",
       "11  7.46  4.78  3.54  4.12  5.11  7.23  0.51  3.80  2.38  4.53  0.00  2.48   \n",
       "12  6.87  5.76  1.38  3.96  2.64  5.02  2.99  4.92  2.23  5.50  2.48  0.00   \n",
       "13  6.53  8.13  3.26  5.64  2.29  1.25  7.29  7.69  6.25  7.91  6.78  4.39   \n",
       "14  5.33  4.57  1.05  2.49  3.20  4.40  3.38  3.87  3.66  4.31  2.91  1.55   \n",
       "15  8.48  7.03  2.86  5.49  3.12  6.16  3.21  6.12  0.98  6.77  2.79  1.60   \n",
       "16  6.41  8.25  3.59  5.76  2.73  0.91  7.64  7.86  6.67  8.05  7.13  4.77   \n",
       "17  9.07  7.21  3.64  5.94  4.01  7.05  2.91  6.26  0.23  6.96  2.61  2.30   \n",
       "18  4.26  0.54  6.04  2.84  8.19  8.09  5.28  1.51  7.54  0.79  5.31  6.27   \n",
       "19  7.69  7.98  2.39  5.71  0.26  3.52  5.75  7.29  4.11  7.73  5.24  2.78   \n",
       "20  4.52  1.90  3.75  1.36  5.90  6.42  3.33  1.17  5.24  1.64  3.20  3.86   \n",
       "\n",
       "      13    14    15    16    17    18    19    20  \n",
       "1   6.53  5.33  8.48  6.41  9.07  4.26  7.69  4.52  \n",
       "2   8.13  4.57  7.03  8.25  7.21  0.54  7.98  1.90  \n",
       "3   3.26  1.05  2.86  3.59  3.64  6.04  2.39  3.75  \n",
       "4   5.64  2.49  5.49  5.76  5.94  2.84  5.71  1.36  \n",
       "5   2.29  3.20  3.12  2.73  4.01  8.19  0.26  5.90  \n",
       "6   1.25  4.40  6.16  0.91  7.05  8.09  3.52  6.42  \n",
       "7   7.29  3.38  3.21  7.64  2.91  5.28  5.75  3.33  \n",
       "8   7.69  3.87  6.12  7.86  6.26  1.51  7.29  1.17  \n",
       "9   6.25  3.66  0.98  6.67  0.23  7.54  4.11  5.24  \n",
       "10  7.91  4.31  6.77  8.05  6.96  0.79  7.73  1.64  \n",
       "11  6.78  2.91  2.79  7.13  2.61  5.31  5.24  3.20  \n",
       "12  4.39  1.55  1.60  4.77  2.30  6.27  2.78  3.86  \n",
       "13  0.00  4.15  5.30  0.45  6.20  8.48  2.40  6.54  \n",
       "14  4.15  0.00  3.15  4.44  3.76  5.04  3.43  2.71  \n",
       "15  5.30  3.15  0.00  5.73  0.90  7.56  3.13  5.17  \n",
       "16  0.45  4.44  5.73  0.00  6.63  8.59  2.85  6.73  \n",
       "17  6.20  3.76  0.90  6.63  0.00  7.75  4.01  5.43  \n",
       "18  8.48  5.04  7.56  8.59  7.75  0.00  8.43  2.41  \n",
       "19  2.40  3.43  3.13  2.85  4.01  8.43  0.00  6.13  \n",
       "20  6.54  2.71  5.17  6.73  5.43  2.41  6.13  0.00  "
      ]
     },
     "execution_count": 46,
     "metadata": {},
     "output_type": "execute_result"
    }
   ],
   "source": [
    "dissimilarity_matrix"
   ]
  },
  {
   "cell_type": "code",
   "execution_count": 47,
   "id": "6b7bd924",
   "metadata": {},
   "outputs": [],
   "source": [
    "def avg_dissim_within_group_element(ele, element_list):\n",
    "    max_diameter = -np.inf\n",
    "    sum_dissm = 0\n",
    "    for i in element_list:\n",
    "        sum_dissm += dissimilarity_matrix[ele][i]   \n",
    "        if( dissimilarity_matrix[ele][i]  > max_diameter):\n",
    "            max_diameter = dissimilarity_matrix[ele][i]\n",
    "    if(len(element_list)>1):\n",
    "        avg = sum_dissm/(len(element_list)-1)\n",
    "    else: \n",
    "        avg = 0\n",
    "    return avg\n",
    "\n",
    "def avg_dissim_across_group_element(ele, main_list, splinter_list):\n",
    "    if len(splinter_list) == 0:\n",
    "        return 0\n",
    "    sum_dissm = 0\n",
    "    for j in splinter_list:\n",
    "        sum_dissm = sum_dissm + dissimilarity_matrix[ele][j]\n",
    "    avg = sum_dissm/(len(splinter_list))\n",
    "    return avg\n",
    "    \n",
    "    \n",
    "def splinter(main_list, splinter_group):\n",
    "    most_dissm_object_value = -np.inf\n",
    "    most_dissm_object_index = None\n",
    "    for ele in main_list:\n",
    "        x = avg_dissim_within_group_element(ele, main_list)\n",
    "        y = avg_dissim_across_group_element(ele, main_list, splinter_group)\n",
    "        diff= x -y\n",
    "        if diff > most_dissm_object_value:\n",
    "            most_dissm_object_value = diff\n",
    "            most_dissm_object_index = ele\n",
    "    if(most_dissm_object_value>0):\n",
    "        return  (most_dissm_object_index, 1)\n",
    "    else:\n",
    "        return (-1, -1)\n",
    "    \n",
    "def split(element_list):\n",
    "    main_list = element_list\n",
    "    splinter_group = []    \n",
    "    (most_dissm_object_index,flag) = splinter(main_list, splinter_group)\n",
    "    while(flag > 0):\n",
    "        main_list.remove(most_dissm_object_index)\n",
    "        splinter_group.append(most_dissm_object_index)\n",
    "        (most_dissm_object_index,flag) = splinter(element_list, splinter_group)\n",
    "    \n",
    "    return (main_list, splinter_group)\n",
    "\n",
    "def max_diameter(cluster_list):\n",
    "    max_diameter_cluster_index = None\n",
    "    max_diameter_cluster_value = -np.inf\n",
    "    index = 0\n",
    "    for element_list in cluster_list:\n",
    "        for i in element_list:\n",
    "            for j in element_list:\n",
    "                if dissimilarity_matrix[i][j]  > max_diameter_cluster_value:\n",
    "                    max_diameter_cluster_value = dissimilarity_matrix[i][j]\n",
    "                    max_diameter_cluster_index = index\n",
    "        \n",
    "        index +=1\n",
    "    \n",
    "    if(max_diameter_cluster_value <= 0):\n",
    "        return -1\n",
    "    \n",
    "    return max_diameter_cluster_index"
   ]
  },
  {
   "cell_type": "code",
   "execution_count": 48,
   "id": "9b7b3632",
   "metadata": {},
   "outputs": [
    {
     "name": "stdout",
     "output_type": "stream",
     "text": [
      "1 [[1, 2, 3, 4, 5, 6, 7, 8, 9, 10, 11, 12, 13, 14, 15, 16, 17, 18, 19, 20]]\n",
      "2 [[3, 5, 6, 7, 9, 11, 12, 13, 14, 15, 16, 17, 19], [1, 18, 2, 10, 8, 20, 4]]\n",
      "3 [[1, 18, 2, 10, 8, 20, 4], [3, 7, 9, 11, 12, 14, 15, 17], [6, 16, 13, 5, 19]]\n",
      "4 [[3, 7, 9, 11, 12, 14, 15, 17], [6, 16, 13, 5, 19], [18, 2, 10, 8, 20, 4], [1]]\n",
      "5 [[6, 16, 13, 5, 19], [18, 2, 10, 8, 20, 4], [1], [7, 9, 11, 15, 17], [3, 14, 12]]\n",
      "6 [[18, 2, 10, 8, 20, 4], [1], [7, 9, 11, 15, 17], [3, 14, 12], [5, 19], [6, 16, 13]]\n",
      "7 [[18, 2, 10, 8, 20, 4], [1], [3, 14, 12], [5, 19], [6, 16, 13], [9, 15, 17], [7, 11]]\n",
      "8 [[1], [3, 14, 12], [5, 19], [6, 16, 13], [9, 15, 17], [7, 11], [18, 2, 10, 8], [4, 20]]\n",
      "9 [[1], [5, 19], [6, 16, 13], [9, 15, 17], [7, 11], [18, 2, 10, 8], [4, 20], [3, 14], [12]]\n",
      "10 [[1], [5, 19], [6, 16, 13], [9, 15, 17], [7, 11], [4, 20], [3, 14], [12], [18, 2, 10], [8]]\n",
      "11 [[1], [5, 19], [6, 16, 13], [9, 15, 17], [7, 11], [3, 14], [12], [18, 2, 10], [8], [20], [4]]\n",
      "12 [[1], [5, 19], [9, 15, 17], [7, 11], [3, 14], [12], [18, 2, 10], [8], [20], [4], [16, 13], [6]]\n",
      "13 [[1], [5, 19], [9, 15, 17], [7, 11], [12], [18, 2, 10], [8], [20], [4], [16, 13], [6], [14], [3]]\n",
      "14 [[1], [5, 19], [7, 11], [12], [18, 2, 10], [8], [20], [4], [16, 13], [6], [14], [3], [9, 17], [15]]\n",
      "15 [[1], [5, 19], [7, 11], [12], [8], [20], [4], [16, 13], [6], [14], [3], [9, 17], [15], [2, 10], [18]]\n",
      "16 [[1], [5, 19], [12], [8], [20], [4], [16, 13], [6], [14], [3], [9, 17], [15], [2, 10], [18], [11], [7]]\n",
      "17 [[1], [5, 19], [12], [8], [20], [4], [6], [14], [3], [9, 17], [15], [2, 10], [18], [11], [7], [13], [16]]\n",
      "18 [[1], [12], [8], [20], [4], [6], [14], [3], [9, 17], [15], [2, 10], [18], [11], [7], [13], [16], [19], [5]]\n",
      "19 [[1], [12], [8], [20], [4], [6], [14], [3], [9, 17], [15], [18], [11], [7], [13], [16], [19], [5], [10], [2]]\n",
      "20 [[1], [12], [8], [20], [4], [6], [14], [3], [15], [18], [11], [7], [13], [16], [19], [5], [10], [2], [17], [9]]\n"
     ]
    }
   ],
   "source": [
    "current_clusters = ([all_elements])\n",
    "level = 1\n",
    "index = 0\n",
    "while(index!=-1):\n",
    "    print(level, current_clusters)\n",
    "    (a_clstr, b_clstr) = split(current_clusters[index])\n",
    "    del current_clusters[index]\n",
    "    current_clusters.append(a_clstr)\n",
    "    current_clusters.append(b_clstr)\n",
    "    index = max_diameter(current_clusters)\n",
    "    level +=1\n",
    "\n",
    "\n",
    "print(level, current_clusters)"
   ]
  },
  {
   "cell_type": "code",
   "execution_count": 36,
   "metadata": {},
   "outputs": [
    {
     "data": {
      "text/plain": [
       "[[19], []]"
      ]
     },
     "execution_count": 36,
     "metadata": {},
     "output_type": "execute_result"
    }
   ],
   "source": [
    "current_clusters"
   ]
  },
  {
   "cell_type": "code",
   "execution_count": 52,
   "id": "3238ce17",
   "metadata": {},
   "outputs": [
    {
     "data": {
      "application/vnd.plotly.v1+json": {
       "config": {
        "plotlyServerURL": "https://plot.ly"
       },
       "data": [
        {
         "hoverinfo": "text",
         "marker": {
          "color": "rgb(61,153,112)"
         },
         "mode": "lines",
         "type": "scatter",
         "x": [
          5,
          5,
          15,
          15
         ],
         "xaxis": "x",
         "y": [
          0,
          1,
          1,
          0
         ],
         "yaxis": "y"
        },
        {
         "hoverinfo": "text",
         "marker": {
          "color": "rgb(61,153,112)"
         },
         "mode": "lines",
         "type": "scatter",
         "x": [
          25,
          25,
          35,
          35
         ],
         "xaxis": "x",
         "y": [
          0,
          1,
          1,
          0
         ],
         "yaxis": "y"
        },
        {
         "hoverinfo": "text",
         "marker": {
          "color": "rgb(61,153,112)"
         },
         "mode": "lines",
         "type": "scatter",
         "x": [
          45,
          45,
          55,
          55
         ],
         "xaxis": "x",
         "y": [
          0,
          1,
          1,
          0
         ],
         "yaxis": "y"
        },
        {
         "hoverinfo": "text",
         "marker": {
          "color": "rgb(61,153,112)"
         },
         "mode": "lines",
         "type": "scatter",
         "x": [
          65,
          65,
          75,
          75
         ],
         "xaxis": "x",
         "y": [
          0,
          1,
          1,
          0
         ],
         "yaxis": "y"
        },
        {
         "hoverinfo": "text",
         "marker": {
          "color": "rgb(61,153,112)"
         },
         "mode": "lines",
         "type": "scatter",
         "x": [
          50,
          50,
          70,
          70
         ],
         "xaxis": "x",
         "y": [
          1,
          3,
          3,
          1
         ],
         "yaxis": "y"
        },
        {
         "hoverinfo": "text",
         "marker": {
          "color": "rgb(61,153,112)"
         },
         "mode": "lines",
         "type": "scatter",
         "x": [
          30,
          30,
          60,
          60
         ],
         "xaxis": "x",
         "y": [
          1,
          5,
          5,
          3
         ],
         "yaxis": "y"
        },
        {
         "hoverinfo": "text",
         "marker": {
          "color": "rgb(61,153,112)"
         },
         "mode": "lines",
         "type": "scatter",
         "x": [
          10,
          10,
          45,
          45
         ],
         "xaxis": "x",
         "y": [
          1,
          7,
          7,
          5
         ],
         "yaxis": "y"
        },
        {
         "hoverinfo": "text",
         "marker": {
          "color": "rgb(255,65,54)"
         },
         "mode": "lines",
         "type": "scatter",
         "x": [
          85,
          85,
          95,
          95
         ],
         "xaxis": "x",
         "y": [
          0,
          1,
          1,
          0
         ],
         "yaxis": "y"
        },
        {
         "hoverinfo": "text",
         "marker": {
          "color": "rgb(255,65,54)"
         },
         "mode": "lines",
         "type": "scatter",
         "x": [
          115,
          115,
          125,
          125
         ],
         "xaxis": "x",
         "y": [
          0,
          1,
          1,
          0
         ],
         "yaxis": "y"
        },
        {
         "hoverinfo": "text",
         "marker": {
          "color": "rgb(255,65,54)"
         },
         "mode": "lines",
         "type": "scatter",
         "x": [
          105,
          105,
          120,
          120
         ],
         "xaxis": "x",
         "y": [
          0,
          2,
          2,
          1
         ],
         "yaxis": "y"
        },
        {
         "hoverinfo": "text",
         "marker": {
          "color": "rgb(255,65,54)"
         },
         "mode": "lines",
         "type": "scatter",
         "x": [
          90,
          90,
          112.5,
          112.5
         ],
         "xaxis": "x",
         "y": [
          1,
          4,
          4,
          2
         ],
         "yaxis": "y"
        },
        {
         "hoverinfo": "text",
         "marker": {
          "color": "rgb(255,65,54)"
         },
         "mode": "lines",
         "type": "scatter",
         "x": [
          145,
          145,
          155,
          155
         ],
         "xaxis": "x",
         "y": [
          0,
          1,
          1,
          0
         ],
         "yaxis": "y"
        },
        {
         "hoverinfo": "text",
         "marker": {
          "color": "rgb(255,65,54)"
         },
         "mode": "lines",
         "type": "scatter",
         "x": [
          135,
          135,
          150,
          150
         ],
         "xaxis": "x",
         "y": [
          0,
          2,
          2,
          1
         ],
         "yaxis": "y"
        },
        {
         "hoverinfo": "text",
         "marker": {
          "color": "rgb(255,65,54)"
         },
         "mode": "lines",
         "type": "scatter",
         "x": [
          165,
          165,
          175,
          175
         ],
         "xaxis": "x",
         "y": [
          0,
          1,
          1,
          0
         ],
         "yaxis": "y"
        },
        {
         "hoverinfo": "text",
         "marker": {
          "color": "rgb(255,65,54)"
         },
         "mode": "lines",
         "type": "scatter",
         "x": [
          185,
          185,
          195,
          195
         ],
         "xaxis": "x",
         "y": [
          0,
          1,
          1,
          0
         ],
         "yaxis": "y"
        },
        {
         "hoverinfo": "text",
         "marker": {
          "color": "rgb(255,65,54)"
         },
         "mode": "lines",
         "type": "scatter",
         "x": [
          170,
          170,
          190,
          190
         ],
         "xaxis": "x",
         "y": [
          1,
          3,
          3,
          1
         ],
         "yaxis": "y"
        },
        {
         "hoverinfo": "text",
         "marker": {
          "color": "rgb(255,65,54)"
         },
         "mode": "lines",
         "type": "scatter",
         "x": [
          142.5,
          142.5,
          180,
          180
         ],
         "xaxis": "x",
         "y": [
          2,
          6,
          6,
          3
         ],
         "yaxis": "y"
        },
        {
         "hoverinfo": "text",
         "marker": {
          "color": "rgb(255,65,54)"
         },
         "mode": "lines",
         "type": "scatter",
         "x": [
          101.25,
          101.25,
          161.25,
          161.25
         ],
         "xaxis": "x",
         "y": [
          4,
          11,
          11,
          6
         ],
         "yaxis": "y"
        },
        {
         "hoverinfo": "text",
         "marker": {
          "color": "rgb(0,116,217)"
         },
         "mode": "lines",
         "type": "scatter",
         "x": [
          27.5,
          27.5,
          131.25,
          131.25
         ],
         "xaxis": "x",
         "y": [
          7,
          19,
          19,
          11
         ],
         "yaxis": "y"
        }
       ],
       "layout": {
        "autosize": false,
        "height": 500,
        "hovermode": "closest",
        "showlegend": false,
        "template": {
         "data": {
          "bar": [
           {
            "error_x": {
             "color": "#2a3f5f"
            },
            "error_y": {
             "color": "#2a3f5f"
            },
            "marker": {
             "line": {
              "color": "#E5ECF6",
              "width": 0.5
             },
             "pattern": {
              "fillmode": "overlay",
              "size": 10,
              "solidity": 0.2
             }
            },
            "type": "bar"
           }
          ],
          "barpolar": [
           {
            "marker": {
             "line": {
              "color": "#E5ECF6",
              "width": 0.5
             },
             "pattern": {
              "fillmode": "overlay",
              "size": 10,
              "solidity": 0.2
             }
            },
            "type": "barpolar"
           }
          ],
          "carpet": [
           {
            "aaxis": {
             "endlinecolor": "#2a3f5f",
             "gridcolor": "white",
             "linecolor": "white",
             "minorgridcolor": "white",
             "startlinecolor": "#2a3f5f"
            },
            "baxis": {
             "endlinecolor": "#2a3f5f",
             "gridcolor": "white",
             "linecolor": "white",
             "minorgridcolor": "white",
             "startlinecolor": "#2a3f5f"
            },
            "type": "carpet"
           }
          ],
          "choropleth": [
           {
            "colorbar": {
             "outlinewidth": 0,
             "ticks": ""
            },
            "type": "choropleth"
           }
          ],
          "contour": [
           {
            "colorbar": {
             "outlinewidth": 0,
             "ticks": ""
            },
            "colorscale": [
             [
              0,
              "#0d0887"
             ],
             [
              0.1111111111111111,
              "#46039f"
             ],
             [
              0.2222222222222222,
              "#7201a8"
             ],
             [
              0.3333333333333333,
              "#9c179e"
             ],
             [
              0.4444444444444444,
              "#bd3786"
             ],
             [
              0.5555555555555556,
              "#d8576b"
             ],
             [
              0.6666666666666666,
              "#ed7953"
             ],
             [
              0.7777777777777778,
              "#fb9f3a"
             ],
             [
              0.8888888888888888,
              "#fdca26"
             ],
             [
              1,
              "#f0f921"
             ]
            ],
            "type": "contour"
           }
          ],
          "contourcarpet": [
           {
            "colorbar": {
             "outlinewidth": 0,
             "ticks": ""
            },
            "type": "contourcarpet"
           }
          ],
          "heatmap": [
           {
            "colorbar": {
             "outlinewidth": 0,
             "ticks": ""
            },
            "colorscale": [
             [
              0,
              "#0d0887"
             ],
             [
              0.1111111111111111,
              "#46039f"
             ],
             [
              0.2222222222222222,
              "#7201a8"
             ],
             [
              0.3333333333333333,
              "#9c179e"
             ],
             [
              0.4444444444444444,
              "#bd3786"
             ],
             [
              0.5555555555555556,
              "#d8576b"
             ],
             [
              0.6666666666666666,
              "#ed7953"
             ],
             [
              0.7777777777777778,
              "#fb9f3a"
             ],
             [
              0.8888888888888888,
              "#fdca26"
             ],
             [
              1,
              "#f0f921"
             ]
            ],
            "type": "heatmap"
           }
          ],
          "heatmapgl": [
           {
            "colorbar": {
             "outlinewidth": 0,
             "ticks": ""
            },
            "colorscale": [
             [
              0,
              "#0d0887"
             ],
             [
              0.1111111111111111,
              "#46039f"
             ],
             [
              0.2222222222222222,
              "#7201a8"
             ],
             [
              0.3333333333333333,
              "#9c179e"
             ],
             [
              0.4444444444444444,
              "#bd3786"
             ],
             [
              0.5555555555555556,
              "#d8576b"
             ],
             [
              0.6666666666666666,
              "#ed7953"
             ],
             [
              0.7777777777777778,
              "#fb9f3a"
             ],
             [
              0.8888888888888888,
              "#fdca26"
             ],
             [
              1,
              "#f0f921"
             ]
            ],
            "type": "heatmapgl"
           }
          ],
          "histogram": [
           {
            "marker": {
             "pattern": {
              "fillmode": "overlay",
              "size": 10,
              "solidity": 0.2
             }
            },
            "type": "histogram"
           }
          ],
          "histogram2d": [
           {
            "colorbar": {
             "outlinewidth": 0,
             "ticks": ""
            },
            "colorscale": [
             [
              0,
              "#0d0887"
             ],
             [
              0.1111111111111111,
              "#46039f"
             ],
             [
              0.2222222222222222,
              "#7201a8"
             ],
             [
              0.3333333333333333,
              "#9c179e"
             ],
             [
              0.4444444444444444,
              "#bd3786"
             ],
             [
              0.5555555555555556,
              "#d8576b"
             ],
             [
              0.6666666666666666,
              "#ed7953"
             ],
             [
              0.7777777777777778,
              "#fb9f3a"
             ],
             [
              0.8888888888888888,
              "#fdca26"
             ],
             [
              1,
              "#f0f921"
             ]
            ],
            "type": "histogram2d"
           }
          ],
          "histogram2dcontour": [
           {
            "colorbar": {
             "outlinewidth": 0,
             "ticks": ""
            },
            "colorscale": [
             [
              0,
              "#0d0887"
             ],
             [
              0.1111111111111111,
              "#46039f"
             ],
             [
              0.2222222222222222,
              "#7201a8"
             ],
             [
              0.3333333333333333,
              "#9c179e"
             ],
             [
              0.4444444444444444,
              "#bd3786"
             ],
             [
              0.5555555555555556,
              "#d8576b"
             ],
             [
              0.6666666666666666,
              "#ed7953"
             ],
             [
              0.7777777777777778,
              "#fb9f3a"
             ],
             [
              0.8888888888888888,
              "#fdca26"
             ],
             [
              1,
              "#f0f921"
             ]
            ],
            "type": "histogram2dcontour"
           }
          ],
          "mesh3d": [
           {
            "colorbar": {
             "outlinewidth": 0,
             "ticks": ""
            },
            "type": "mesh3d"
           }
          ],
          "parcoords": [
           {
            "line": {
             "colorbar": {
              "outlinewidth": 0,
              "ticks": ""
             }
            },
            "type": "parcoords"
           }
          ],
          "pie": [
           {
            "automargin": true,
            "type": "pie"
           }
          ],
          "scatter": [
           {
            "fillpattern": {
             "fillmode": "overlay",
             "size": 10,
             "solidity": 0.2
            },
            "type": "scatter"
           }
          ],
          "scatter3d": [
           {
            "line": {
             "colorbar": {
              "outlinewidth": 0,
              "ticks": ""
             }
            },
            "marker": {
             "colorbar": {
              "outlinewidth": 0,
              "ticks": ""
             }
            },
            "type": "scatter3d"
           }
          ],
          "scattercarpet": [
           {
            "marker": {
             "colorbar": {
              "outlinewidth": 0,
              "ticks": ""
             }
            },
            "type": "scattercarpet"
           }
          ],
          "scattergeo": [
           {
            "marker": {
             "colorbar": {
              "outlinewidth": 0,
              "ticks": ""
             }
            },
            "type": "scattergeo"
           }
          ],
          "scattergl": [
           {
            "marker": {
             "colorbar": {
              "outlinewidth": 0,
              "ticks": ""
             }
            },
            "type": "scattergl"
           }
          ],
          "scattermapbox": [
           {
            "marker": {
             "colorbar": {
              "outlinewidth": 0,
              "ticks": ""
             }
            },
            "type": "scattermapbox"
           }
          ],
          "scatterpolar": [
           {
            "marker": {
             "colorbar": {
              "outlinewidth": 0,
              "ticks": ""
             }
            },
            "type": "scatterpolar"
           }
          ],
          "scatterpolargl": [
           {
            "marker": {
             "colorbar": {
              "outlinewidth": 0,
              "ticks": ""
             }
            },
            "type": "scatterpolargl"
           }
          ],
          "scatterternary": [
           {
            "marker": {
             "colorbar": {
              "outlinewidth": 0,
              "ticks": ""
             }
            },
            "type": "scatterternary"
           }
          ],
          "surface": [
           {
            "colorbar": {
             "outlinewidth": 0,
             "ticks": ""
            },
            "colorscale": [
             [
              0,
              "#0d0887"
             ],
             [
              0.1111111111111111,
              "#46039f"
             ],
             [
              0.2222222222222222,
              "#7201a8"
             ],
             [
              0.3333333333333333,
              "#9c179e"
             ],
             [
              0.4444444444444444,
              "#bd3786"
             ],
             [
              0.5555555555555556,
              "#d8576b"
             ],
             [
              0.6666666666666666,
              "#ed7953"
             ],
             [
              0.7777777777777778,
              "#fb9f3a"
             ],
             [
              0.8888888888888888,
              "#fdca26"
             ],
             [
              1,
              "#f0f921"
             ]
            ],
            "type": "surface"
           }
          ],
          "table": [
           {
            "cells": {
             "fill": {
              "color": "#EBF0F8"
             },
             "line": {
              "color": "white"
             }
            },
            "header": {
             "fill": {
              "color": "#C8D4E3"
             },
             "line": {
              "color": "white"
             }
            },
            "type": "table"
           }
          ]
         },
         "layout": {
          "annotationdefaults": {
           "arrowcolor": "#2a3f5f",
           "arrowhead": 0,
           "arrowwidth": 1
          },
          "autotypenumbers": "strict",
          "coloraxis": {
           "colorbar": {
            "outlinewidth": 0,
            "ticks": ""
           }
          },
          "colorscale": {
           "diverging": [
            [
             0,
             "#8e0152"
            ],
            [
             0.1,
             "#c51b7d"
            ],
            [
             0.2,
             "#de77ae"
            ],
            [
             0.3,
             "#f1b6da"
            ],
            [
             0.4,
             "#fde0ef"
            ],
            [
             0.5,
             "#f7f7f7"
            ],
            [
             0.6,
             "#e6f5d0"
            ],
            [
             0.7,
             "#b8e186"
            ],
            [
             0.8,
             "#7fbc41"
            ],
            [
             0.9,
             "#4d9221"
            ],
            [
             1,
             "#276419"
            ]
           ],
           "sequential": [
            [
             0,
             "#0d0887"
            ],
            [
             0.1111111111111111,
             "#46039f"
            ],
            [
             0.2222222222222222,
             "#7201a8"
            ],
            [
             0.3333333333333333,
             "#9c179e"
            ],
            [
             0.4444444444444444,
             "#bd3786"
            ],
            [
             0.5555555555555556,
             "#d8576b"
            ],
            [
             0.6666666666666666,
             "#ed7953"
            ],
            [
             0.7777777777777778,
             "#fb9f3a"
            ],
            [
             0.8888888888888888,
             "#fdca26"
            ],
            [
             1,
             "#f0f921"
            ]
           ],
           "sequentialminus": [
            [
             0,
             "#0d0887"
            ],
            [
             0.1111111111111111,
             "#46039f"
            ],
            [
             0.2222222222222222,
             "#7201a8"
            ],
            [
             0.3333333333333333,
             "#9c179e"
            ],
            [
             0.4444444444444444,
             "#bd3786"
            ],
            [
             0.5555555555555556,
             "#d8576b"
            ],
            [
             0.6666666666666666,
             "#ed7953"
            ],
            [
             0.7777777777777778,
             "#fb9f3a"
            ],
            [
             0.8888888888888888,
             "#fdca26"
            ],
            [
             1,
             "#f0f921"
            ]
           ]
          },
          "colorway": [
           "#636efa",
           "#EF553B",
           "#00cc96",
           "#ab63fa",
           "#FFA15A",
           "#19d3f3",
           "#FF6692",
           "#B6E880",
           "#FF97FF",
           "#FECB52"
          ],
          "font": {
           "color": "#2a3f5f"
          },
          "geo": {
           "bgcolor": "white",
           "lakecolor": "white",
           "landcolor": "#E5ECF6",
           "showlakes": true,
           "showland": true,
           "subunitcolor": "white"
          },
          "hoverlabel": {
           "align": "left"
          },
          "hovermode": "closest",
          "mapbox": {
           "style": "light"
          },
          "paper_bgcolor": "white",
          "plot_bgcolor": "#E5ECF6",
          "polar": {
           "angularaxis": {
            "gridcolor": "white",
            "linecolor": "white",
            "ticks": ""
           },
           "bgcolor": "#E5ECF6",
           "radialaxis": {
            "gridcolor": "white",
            "linecolor": "white",
            "ticks": ""
           }
          },
          "scene": {
           "xaxis": {
            "backgroundcolor": "#E5ECF6",
            "gridcolor": "white",
            "gridwidth": 2,
            "linecolor": "white",
            "showbackground": true,
            "ticks": "",
            "zerolinecolor": "white"
           },
           "yaxis": {
            "backgroundcolor": "#E5ECF6",
            "gridcolor": "white",
            "gridwidth": 2,
            "linecolor": "white",
            "showbackground": true,
            "ticks": "",
            "zerolinecolor": "white"
           },
           "zaxis": {
            "backgroundcolor": "#E5ECF6",
            "gridcolor": "white",
            "gridwidth": 2,
            "linecolor": "white",
            "showbackground": true,
            "ticks": "",
            "zerolinecolor": "white"
           }
          },
          "shapedefaults": {
           "line": {
            "color": "#2a3f5f"
           }
          },
          "ternary": {
           "aaxis": {
            "gridcolor": "white",
            "linecolor": "white",
            "ticks": ""
           },
           "baxis": {
            "gridcolor": "white",
            "linecolor": "white",
            "ticks": ""
           },
           "bgcolor": "#E5ECF6",
           "caxis": {
            "gridcolor": "white",
            "linecolor": "white",
            "ticks": ""
           }
          },
          "title": {
           "x": 0.05
          },
          "xaxis": {
           "automargin": true,
           "gridcolor": "white",
           "linecolor": "white",
           "ticks": "",
           "title": {
            "standoff": 15
           },
           "zerolinecolor": "white",
           "zerolinewidth": 2
          },
          "yaxis": {
           "automargin": true,
           "gridcolor": "white",
           "linecolor": "white",
           "ticks": "",
           "title": {
            "standoff": 15
           },
           "zerolinecolor": "white",
           "zerolinewidth": 2
          }
         }
        },
        "title": {
         "text": "DIANA DIvisive ANAlysis"
        },
        "width": 800,
        "xaxis": {
         "mirror": "allticks",
         "rangemode": "tozero",
         "showgrid": false,
         "showline": true,
         "showticklabels": true,
         "tickmode": "array",
         "ticks": "outside",
         "ticktext": [
          "0",
          "17",
          "2",
          "11",
          "4",
          "7",
          "5",
          "15",
          "3",
          "14",
          "13",
          "9",
          "18",
          "12",
          "6",
          "8",
          "1",
          "10",
          "16",
          "19"
         ],
         "tickvals": [
          5,
          15,
          25,
          35,
          45,
          55,
          65,
          75,
          85,
          95,
          105,
          115,
          125,
          135,
          145,
          155,
          165,
          175,
          185,
          195
         ],
         "type": "linear",
         "zeroline": false
        },
        "yaxis": {
         "mirror": "allticks",
         "rangemode": "tozero",
         "showgrid": false,
         "showline": true,
         "showticklabels": true,
         "ticks": "outside",
         "type": "linear",
         "zeroline": false
        }
       }
      }
     },
     "metadata": {},
     "output_type": "display_data"
    }
   ],
   "source": [
    "import plotly.figure_factory as ff\n",
    "\n",
    "points = np.array(current_clusters)\n",
    "\n",
    "fig = ff.create_dendrogram(points, orientation='bottom')   \n",
    "fig.update_layout(width=800, height=500, title_text = \"DIANA DIvisive ANAlysis\")\n",
    "fig.show()\n"
   ]
  },
  {
   "cell_type": "code",
   "execution_count": null,
   "metadata": {},
   "outputs": [],
   "source": []
  }
 ],
 "metadata": {
  "kernelspec": {
   "display_name": "Python 3 (ipykernel)",
   "language": "python",
   "name": "python3"
  },
  "language_info": {
   "codemirror_mode": {
    "name": "ipython",
    "version": 3
   },
   "file_extension": ".py",
   "mimetype": "text/x-python",
   "name": "python",
   "nbconvert_exporter": "python",
   "pygments_lexer": "ipython3",
   "version": "3.10.0"
  }
 },
 "nbformat": 4,
 "nbformat_minor": 5
}
