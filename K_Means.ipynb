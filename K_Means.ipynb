{
 "cells": [
  {
   "cell_type": "code",
   "execution_count": 2,
   "metadata": {},
   "outputs": [],
   "source": [
    "import random\n",
    "import numpy as np"
   ]
  },
  {
   "cell_type": "code",
   "execution_count": 3,
   "metadata": {},
   "outputs": [],
   "source": [
    "def euclidean_distance(point1, point2):\n",
    "    return np.sqrt((point1[0] - point2[0]) ** 2 + (point1[1] - point2[1]) ** 2)"
   ]
  },
  {
   "cell_type": "code",
   "execution_count": 4,
   "metadata": {},
   "outputs": [
    {
     "data": {
      "text/plain": [
       "<matplotlib.collections.PathCollection at 0x229374e6d70>"
      ]
     },
     "execution_count": 4,
     "metadata": {},
     "output_type": "execute_result"
    },
    {
     "data": {
      "image/png": "[encoded data removed]",
      "text/plain": [
       "<Figure size 432x288 with 1 Axes>"
      ]
     },
     "metadata": {
      "needs_background": "light"
     },
     "output_type": "display_data"
    }
   ],
   "source": [
    "import matplotlib.pyplot as plt\n",
    "np.random.seed(0)\n",
    "data = [(np.random.rand() * 10, np.random.rand() * 10) for _ in range(50)]  # Generate random 2D points\n",
    "k = 5\n",
    "\n",
    "x_points = [x for x, _ in data]\n",
    "y_points = [y for _, y in data]\n",
    "plt.scatter(x_points,y_points)"
   ]
  },
  {
   "cell_type": "code",
   "execution_count": 5,
   "metadata": {},
   "outputs": [],
   "source": [
    "def k_means(data,k,max_iterations=100):\n",
    "    data = [[point[0], point[1]] for point in data]\n",
    "    centroids = random.sample(data,k)\n",
    "\n",
    "    for _ in range(max_iterations):\n",
    "        clusters = [[] for _ in range(k)]\n",
    "\n",
    "        for point in data:\n",
    "            min_distance = euclidean_distance(point,centroids[0])\n",
    "            min_distance_idx=0\n",
    "            for idx in range(1,k):\n",
    "                distance = euclidean_distance(point, centroids[idx])\n",
    "                if distance < min_distance:\n",
    "                    min_distance = distance\n",
    "                    min_distance_idx=idx\n",
    "            clusters[min_distance_idx].append(point)\n",
    "\n",
    "        new_centroids=[]\n",
    "        \n",
    "        for cluster in clusters:\n",
    "            if len(cluster)==0:\n",
    "                new_centroids.append(centroids[clusters.index(cluster)])\n",
    "            else :\n",
    "                sum_x = sum(point[0] for point in cluster)\n",
    "                sum_y = sum(point[1] for point in cluster)\n",
    "                new_centroid = (sum_x / len(cluster), sum_y / len(cluster))\n",
    "                new_centroids.append(new_centroid)\n",
    "        \n",
    "        if centroids==new_centroids:\n",
    "            break\n",
    "        centroids = new_centroids\n",
    "    \n",
    "    return centroids, clusters\n",
    "                \n",
    "\n"
   ]
  },
  {
   "cell_type": "code",
   "execution_count": 6,
   "metadata": {},
   "outputs": [
    {
     "name": "stdout",
     "output_type": "stream",
     "text": [
      "Centroid 1: (5.502861927363078, 5.769044914062977)\n",
      "Cluster 1 points:\n",
      "\n",
      "Centroid 2: (9.155902176406666, 6.1954631021977935)\n",
      "Cluster 2 points:\n",
      "\n",
      "Centroid 3: (7.180861033966295, 1.0638775784408787)\n",
      "Cluster 3 points:\n",
      "\n",
      "Centroid 4: (2.6445256479051196, 2.281676983749522)\n",
      "Cluster 4 points:\n",
      "\n",
      "Centroid 5: (2.6023028871912692, 7.843736405687346)\n",
      "Cluster 5 points:\n",
      "\n"
     ]
    },
    {
     "data": {
      "image/png": "[encoded data removed]",
      "text/plain": [
       "<Figure size 432x288 with 1 Axes>"
      ]
     },
     "metadata": {
      "needs_background": "light"
     },
     "output_type": "display_data"
    }
   ],
   "source": [
    "centroids, clusters = k_means(data, k)\n",
    "\n",
    "c_x = [x for x, _ in centroids]\n",
    "c_y = [y for _,y in centroids]\n",
    "\n",
    "\n",
    "plt.scatter(x_points,y_points,c='r')\n",
    "plt.scatter(c_x, c_y, c='g')\n",
    "plt.plot()\n",
    "\n",
    "\n",
    "for i, centroid in enumerate(centroids):\n",
    "    print(f\"Centroid {i+1}: {centroid}\")\n",
    "    print(f\"Cluster {i+1} points:\")\n",
    "    print()"
   ]
  },
  {
   "cell_type": "code",
   "execution_count": null,
   "metadata": {},
   "outputs": [],
   "source": []
  }
 ],
 "metadata": {
  "kernelspec": {
   "display_name": "Python 3",
   "language": "python",
   "name": "python3"
  },
  "language_info": {
   "codemirror_mode": {
    "name": "ipython",
    "version": 3
   },
   "file_extension": ".py",
   "mimetype": "text/x-python",
   "name": "python",
   "nbconvert_exporter": "python",
   "pygments_lexer": "ipython3",
   "version": "3.10.0"
  }
 },
 "nbformat": 4,
 "nbformat_minor": 2
}
