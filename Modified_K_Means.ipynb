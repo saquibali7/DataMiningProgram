{
 "cells": [
  {
   "cell_type": "code",
   "execution_count": 130,
   "metadata": {},
   "outputs": [
    {
     "name": "stdout",
     "output_type": "stream",
     "text": [
      "15\n"
     ]
    },
    {
     "data": {
      "text/plain": [
       "<matplotlib.collections.PathCollection at 0x238416f9c00>"
      ]
     },
     "execution_count": 130,
     "metadata": {},
     "output_type": "execute_result"
    },
    {
     "data": {
      "image/png": "[encoded data removed]",
      "text/plain": [
       "<Figure size 432x288 with 1 Axes>"
      ]
     },
     "metadata": {
      "needs_background": "light"
     },
     "output_type": "display_data"
    }
   ],
   "source": [
    "import numpy as np\n",
    "import pandas as pd\n",
    "import random\n",
    "import matplotlib.pyplot as plt\n",
    "\n",
    "data_points = [\n",
    "    [2,3,5],[3,4,6],[4,3,4],[5,4,6],[6,3,5],\n",
    "    [8,7,9],[9,8,10],[10,7,9],[11,8,10],[12,7,9],\n",
    "    [5,5,2],[6,5,2],[5,6,3],[6,6,3],[7,6,2],\n",
    "]\n",
    "\n",
    "print(len(data_points))\n",
    "\n",
    "x= [point[0] for point in data_points]\n",
    "y= [point[1] for point in data_points]\n",
    "z= [point[2] for point in data_points]\n",
    "\n",
    "plt.scatter(x,y,z,c='b')\n"
   ]
  },
  {
   "cell_type": "code",
   "execution_count": 131,
   "metadata": {},
   "outputs": [],
   "source": [
    "def EucliedeanDistance(point1, point2):\n",
    "    return np.sqrt(sum([(a - b) ** 2 for a, b in zip(point1, point2)]) ** 0.5)"
   ]
  },
  {
   "cell_type": "code",
   "execution_count": 123,
   "metadata": {},
   "outputs": [],
   "source": [
    "def k_means(data, k, maxIterations=50):\n",
    "    centroids = random.sample(data,k)\n",
    "\n",
    "    for _ in range(maxIterations):\n",
    "        clusters = [[] for _ in range(k)]\n",
    "        for point in data:\n",
    "            distance_dict = {}\n",
    "            for i in range(k):\n",
    "                distance_dict[i]=EucliedeanDistance(point,centroids[i])\n",
    "            sorted_distance_dict = sorted(distance_dict.items(), key=lambda word:word[1], reverse=False)\n",
    "            sorted_distance_dict = dict(sorted_distance_dict)\n",
    "\n",
    "            for keys in sorted_distance_dict.keys():\n",
    "                if keys == 0 and len(clusters[keys]) > 3:\n",
    "                    continue\n",
    "                elif keys == 1 and len(clusters[keys]) > 3:\n",
    "                    continue\n",
    "                else :\n",
    "                    clusters[keys].append(point)\n",
    "                    break\n",
    "            \n",
    "        new_centroids = []\n",
    "        for cluster in clusters:\n",
    "            if len(cluster)==0:\n",
    "                new_centroids.append(centroids[clusters.index(cluster)])\n",
    "            else :\n",
    "                sum_x = sum(point[0] for point in cluster)\n",
    "                sum_y = sum(point[1] for point in cluster)\n",
    "                sum_z = sum(point[2] for point in  cluster)\n",
    "                new_centroid = (sum_x / len(cluster), sum_y / len(cluster), sum_z/len(cluster))\n",
    "                new_centroids.append(new_centroid)\n",
    "                \n",
    "        if centroids==new_centroids:\n",
    "            break\n",
    "        centroids = new_centroids\n",
    "    \n",
    "    return centroids, clusters\n"
   ]
  },
  {
   "cell_type": "code",
   "execution_count": 134,
   "metadata": {},
   "outputs": [
    {
     "name": "stdout",
     "output_type": "stream",
     "text": [
      "Centroid 1: (8.25, 6.25, 8.25)\n",
      "lenght of cluster 1 : 4\n",
      "clusters contains the following points :  [[6, 3, 5], [8, 7, 9], [9, 8, 10], [10, 7, 9]]\n",
      "Centroid 2: (3.5, 3.5, 5.25)\n",
      "lenght of cluster 2 : 4\n",
      "clusters contains the following points :  [[2, 3, 5], [3, 4, 6], [4, 3, 4], [5, 4, 6]]\n"
     ]
    },
    {
     "data": {
      "image/png": "[encoded data removed]",
      "text/plain": [
       "<Figure size 432x288 with 1 Axes>"
      ]
     },
     "metadata": {
      "needs_background": "light"
     },
     "output_type": "display_data"
    }
   ],
   "source": [
    "centroids, clusters = k_means(data_points, k=2)\n",
    "\n",
    "c_x = [centroid[0] for centroid in centroids]\n",
    "c_y = [centroid[1] for centroid in centroids]\n",
    "c_z = [centroid[2] for centroid in centroids]\n",
    "\n",
    "plt.scatter(x,y,z,c='r')\n",
    "plt.scatter(c_x,c_y,c_z,c='g')\n",
    "plt.plot()\n",
    "\n",
    "\n",
    "for i, centroid in enumerate(centroids):\n",
    "    print(f\"Centroid {i+1}: {centroid}\")\n",
    "    print(f\"lenght of cluster {i+1} :\", len(clusters[i]))\n",
    "    print(\"clusters contains the following points : \", clusters[i])\n"
   ]
  },
  {
   "cell_type": "code",
   "execution_count": 106,
   "metadata": {},
   "outputs": [],
   "source": []
  },
  {
   "cell_type": "code",
   "execution_count": null,
   "metadata": {},
   "outputs": [],
   "source": []
  },
  {
   "cell_type": "code",
   "execution_count": null,
   "metadata": {},
   "outputs": [],
   "source": []
  }
 ],
 "metadata": {
  "kernelspec": {
   "display_name": "Python 3",
   "language": "python",
   "name": "python3"
  },
  "language_info": {
   "codemirror_mode": {
    "name": "ipython",
    "version": 3
   },
   "file_extension": ".py",
   "mimetype": "text/x-python",
   "name": "python",
   "nbconvert_exporter": "python",
   "pygments_lexer": "ipython3",
   "version": "3.10.0"
  }
 },
 "nbformat": 4,
 "nbformat_minor": 2
}
