{
 "cells": [
  {
   "cell_type": "code",
   "execution_count": 1,
   "metadata": {},
   "outputs": [],
   "source": [
    "import numpy as np\n",
    "import pandas as pd\n",
    "import math"
   ]
  },
  {
   "cell_type": "code",
   "execution_count": 2,
   "metadata": {},
   "outputs": [
    {
     "data": {
      "text/html": [
       "<div>\n",
       "<style scoped>\n",
       "    .dataframe tbody tr th:only-of-type {\n",
       "        vertical-align: middle;\n",
       "    }\n",
       "\n",
       "    .dataframe tbody tr th {\n",
       "        vertical-align: top;\n",
       "    }\n",
       "\n",
       "    .dataframe thead th {\n",
       "        text-align: right;\n",
       "    }\n",
       "</style>\n",
       "<table border=\"1\" class=\"dataframe\">\n",
       "  <thead>\n",
       "    <tr style=\"text-align: right;\">\n",
       "      <th></th>\n",
       "      <th>Questions</th>\n",
       "      <th>Answers</th>\n",
       "    </tr>\n",
       "  </thead>\n",
       "  <tbody>\n",
       "    <tr>\n",
       "      <th>0</th>\n",
       "      <td>What are the courses offered by JMI</td>\n",
       "      <td>JMI offers courses like Btech MTech MBA</td>\n",
       "    </tr>\n",
       "    <tr>\n",
       "      <th>1</th>\n",
       "      <td>Where is JMI located?</td>\n",
       "      <td>Jamia is located in Okhla New Delhi</td>\n",
       "    </tr>\n",
       "  </tbody>\n",
       "</table>\n",
       "</div>"
      ],
      "text/plain": [
       "                             Questions  \\\n",
       "0  What are the courses offered by JMI   \n",
       "1                Where is JMI located?   \n",
       "\n",
       "                                   Answers  \n",
       "0  JMI offers courses like Btech MTech MBA  \n",
       "1      Jamia is located in Okhla New Delhi  "
      ]
     },
     "execution_count": 2,
     "metadata": {},
     "output_type": "execute_result"
    }
   ],
   "source": [
    "file_path = './dataset/dataset3.txt'\n",
    "df = pd.read_csv(file_path, sep=',')\n",
    "\n",
    "df"
   ]
  },
  {
   "cell_type": "code",
   "execution_count": 3,
   "metadata": {},
   "outputs": [],
   "source": [
    "def count_frequency(line) :\n",
    "    word_freq = {}\n",
    "    special_chars = ['.', ',', '?', '!', ':', ';', '\"', \"'\", '(', ')', '[', ']', '{', '}', '-', '_']\n",
    "    \n",
    "    for word in line.split() :\n",
    "        for char in special_chars :\n",
    "            if char in word :\n",
    "                word = word.replace(char, '')\n",
    "\n",
    "        if word in word_freq :\n",
    "            word_freq[word] += 1\n",
    "        else :\n",
    "            word_freq[word] = 1\n",
    "    \n",
    "    return word_freq"
   ]
  },
  {
   "cell_type": "code",
   "execution_count": 5,
   "metadata": {},
   "outputs": [
    {
     "data": {
      "text/plain": [
       "{'Where': 1, 'is': 1, 'JMI': 1, 'located': 1}"
      ]
     },
     "execution_count": 5,
     "metadata": {},
     "output_type": "execute_result"
    }
   ],
   "source": [
    "prompt_question = 'Where is JMI located'\n",
    "prompt_ques_dict = count_frequency(prompt_question)\n",
    "prompt_ques_dict"
   ]
  },
  {
   "cell_type": "code",
   "execution_count": 4,
   "metadata": {},
   "outputs": [
    {
     "data": {
      "text/plain": [
       "[{'What': 1,\n",
       "  'are': 1,\n",
       "  'the': 1,\n",
       "  'courses': 1,\n",
       "  'offered': 1,\n",
       "  'by': 1,\n",
       "  'JMI': 1},\n",
       " {'Where': 1, 'is': 1, 'JMI': 1, 'located': 1}]"
      ]
     },
     "execution_count": 4,
     "metadata": {},
     "output_type": "execute_result"
    }
   ],
   "source": [
    "list_of_dict = []\n",
    "\n",
    "for _, rows in df.iterrows():\n",
    "    rows_freq=count_frequency(rows['Questions'])\n",
    "    list_of_dict.append(rows_freq)\n",
    "\n",
    "list_of_dict"
   ]
  },
  {
   "cell_type": "code",
   "execution_count": 8,
   "metadata": {},
   "outputs": [
    {
     "data": {
      "text/plain": [
       "{'JMI',\n",
       " 'What',\n",
       " 'Where',\n",
       " 'are',\n",
       " 'by',\n",
       " 'courses',\n",
       " 'is',\n",
       " 'located',\n",
       " 'offered',\n",
       " 'the'}"
      ]
     },
     "execution_count": 8,
     "metadata": {},
     "output_type": "execute_result"
    }
   ],
   "source": [
    "word_union = set()\n",
    "\n",
    "for dictionary in list_of_dict:\n",
    "    word_union |= set(dictionary.keys())\n",
    "\n",
    "word_union |= set(prompt_ques_dict.keys())\n",
    "word_union\n"
   ]
  },
  {
   "cell_type": "code",
   "execution_count": 20,
   "metadata": {},
   "outputs": [],
   "source": [
    "def cosine_similiarity(dict1, dict2):\n",
    "    dot_product = (sum(dict1.get(word,0) * dict2.get(word,0) for word in word_union))\n",
    "    magnitude1 = math.sqrt(sum(dict1[word] ** 2 for word in dict1))\n",
    "    magnitude2 = math.sqrt(sum(dict2[word] ** 2 for word in dict2))\n",
    "    cosine_value = dot_product/(magnitude1*magnitude2)\n",
    "    return cosine_value\n"
   ]
  },
  {
   "cell_type": "code",
   "execution_count": 26,
   "metadata": {},
   "outputs": [
    {
     "name": "stdout",
     "output_type": "stream",
     "text": [
      "0.1889822365046136\n",
      "1.0\n"
     ]
    }
   ],
   "source": [
    "index_minimum_cosine_value=0\n",
    "minimun_cosine_value = 0\n",
    "for index , dictionary in enumerate(list_of_dict):\n",
    "    cosine_value = cosine_similiarity(dictionary, prompt_ques_dict)\n",
    "    if cosine_value>=minimun_cosine_value:\n",
    "        minimun_cosine_value=cosine_value\n",
    "        index_minimum_cosine_value=index\n",
    "    print(minimun_cosine_value)"
   ]
  },
  {
   "cell_type": "code",
   "execution_count": 27,
   "metadata": {},
   "outputs": [
    {
     "name": "stdout",
     "output_type": "stream",
     "text": [
      "Most closest Question and Answer to the given question is:\n",
      "['Where is JMI located?' 'Jamia is located in Okhla New Delhi']\n"
     ]
    }
   ],
   "source": [
    "print('Most closest Question and Answer to the given question is:')\n",
    "print(df.iloc[index_minimum_cosine_value].values)"
   ]
  }
 ],
 "metadata": {
  "kernelspec": {
   "display_name": "Python 3",
   "language": "python",
   "name": "python3"
  },
  "language_info": {
   "codemirror_mode": {
    "name": "ipython",
    "version": 3
   },
   "file_extension": ".py",
   "mimetype": "text/x-python",
   "name": "python",
   "nbconvert_exporter": "python",
   "pygments_lexer": "ipython3",
   "version": "3.10.0"
  }
 },
 "nbformat": 4,
 "nbformat_minor": 2
}
